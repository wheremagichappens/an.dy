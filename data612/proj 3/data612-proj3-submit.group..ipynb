{
 "cells": [
  {
   "cell_type": "markdown",
   "metadata": {},
   "source": [
    "# data612 - Group Project 3 : Recommender System (Matrix Factorization)\n",
    "# date: 2019-06-25\n",
    "# by: Sang Yoon (Andy) Hwang, Santosh Cheruku, Anthony Munoz"
   ]
  },
  {
   "cell_type": "markdown",
   "metadata": {},
   "source": [
    "The purpose of this project is to show which algorithm works the best for prediction - SVD, NMF and ALS (the lowest RMSE).\n",
    "We will use the algorithm that works the best to predict user ratings and recommend items."
   ]
  },
  {
   "cell_type": "markdown",
   "metadata": {},
   "source": [
    "# Data Preparation"
   ]
  },
  {
   "cell_type": "markdown",
   "metadata": {},
   "source": [
    "We are going to use 100k ratings dataset from movielens."
   ]
  },
  {
   "cell_type": "code",
   "execution_count": 1,
   "metadata": {},
   "outputs": [],
   "source": [
    "import pandas as pd\n",
    "import surprise\n",
    "from plotly.offline import init_notebook_mode, plot, iplot\n",
    "import plotly.graph_objs as go\n",
    "from surprise import Dataset\n",
    "from surprise import KNNBasic\n",
    "from surprise import Reader\n",
    "from surprise import accuracy\n",
    "from surprise.model_selection import cross_validate\n",
    "from surprise.model_selection import train_test_split"
   ]
  },
  {
   "cell_type": "markdown",
   "metadata": {},
   "source": [
    "From https://grouplens.org/datasets/movielens/, ml-latest-small will be used."
   ]
  },
  {
   "cell_type": "code",
   "execution_count": 2,
   "metadata": {},
   "outputs": [],
   "source": [
    "df = pd.read_csv('https://raw.githubusercontent.com/wheremagichappens/an.dy/master/data612/ml-100k/ratings.csv')"
   ]
  },
  {
   "cell_type": "code",
   "execution_count": 3,
   "metadata": {},
   "outputs": [
    {
     "data": {
      "text/html": [
       "<div>\n",
       "<style scoped>\n",
       "    .dataframe tbody tr th:only-of-type {\n",
       "        vertical-align: middle;\n",
       "    }\n",
       "\n",
       "    .dataframe tbody tr th {\n",
       "        vertical-align: top;\n",
       "    }\n",
       "\n",
       "    .dataframe thead th {\n",
       "        text-align: right;\n",
       "    }\n",
       "</style>\n",
       "<table border=\"1\" class=\"dataframe\">\n",
       "  <thead>\n",
       "    <tr style=\"text-align: right;\">\n",
       "      <th></th>\n",
       "      <th>userId</th>\n",
       "      <th>movieId</th>\n",
       "      <th>rating</th>\n",
       "      <th>timestamp</th>\n",
       "    </tr>\n",
       "  </thead>\n",
       "  <tbody>\n",
       "    <tr>\n",
       "      <th>0</th>\n",
       "      <td>1</td>\n",
       "      <td>1</td>\n",
       "      <td>4.0</td>\n",
       "      <td>964982703</td>\n",
       "    </tr>\n",
       "    <tr>\n",
       "      <th>1</th>\n",
       "      <td>1</td>\n",
       "      <td>3</td>\n",
       "      <td>4.0</td>\n",
       "      <td>964981247</td>\n",
       "    </tr>\n",
       "    <tr>\n",
       "      <th>2</th>\n",
       "      <td>1</td>\n",
       "      <td>6</td>\n",
       "      <td>4.0</td>\n",
       "      <td>964982224</td>\n",
       "    </tr>\n",
       "    <tr>\n",
       "      <th>3</th>\n",
       "      <td>1</td>\n",
       "      <td>47</td>\n",
       "      <td>5.0</td>\n",
       "      <td>964983815</td>\n",
       "    </tr>\n",
       "    <tr>\n",
       "      <th>4</th>\n",
       "      <td>1</td>\n",
       "      <td>50</td>\n",
       "      <td>5.0</td>\n",
       "      <td>964982931</td>\n",
       "    </tr>\n",
       "  </tbody>\n",
       "</table>\n",
       "</div>"
      ],
      "text/plain": [
       "   userId  movieId  rating  timestamp\n",
       "0       1        1     4.0  964982703\n",
       "1       1        3     4.0  964981247\n",
       "2       1        6     4.0  964982224\n",
       "3       1       47     5.0  964983815\n",
       "4       1       50     5.0  964982931"
      ]
     },
     "execution_count": 3,
     "metadata": {},
     "output_type": "execute_result"
    }
   ],
   "source": [
    "df.head()"
   ]
  },
  {
   "cell_type": "markdown",
   "metadata": {},
   "source": [
    "Just to make our life a little bit easier, we will change the names of the columns."
   ]
  },
  {
   "cell_type": "code",
   "execution_count": 4,
   "metadata": {},
   "outputs": [],
   "source": [
    "df.columns = ['user','item','rating','timestamp']"
   ]
  },
  {
   "cell_type": "code",
   "execution_count": 5,
   "metadata": {},
   "outputs": [
    {
     "name": "stdout",
     "output_type": "stream",
     "text": [
      "<class 'pandas.core.frame.DataFrame'>\n",
      "RangeIndex: 100836 entries, 0 to 100835\n",
      "Data columns (total 4 columns):\n",
      "user         100836 non-null int64\n",
      "item         100836 non-null int64\n",
      "rating       100836 non-null float64\n",
      "timestamp    100836 non-null int64\n",
      "dtypes: float64(1), int64(3)\n",
      "memory usage: 3.1 MB\n"
     ]
    }
   ],
   "source": [
    "df.info()"
   ]
  },
  {
   "cell_type": "markdown",
   "metadata": {},
   "source": [
    "# Modelling"
   ]
  },
  {
   "cell_type": "markdown",
   "metadata": {},
   "source": [
    "We will find the best algorithm based on RMSE. "
   ]
  },
  {
   "cell_type": "code",
   "execution_count": 6,
   "metadata": {},
   "outputs": [],
   "source": [
    "reader = Reader(rating_scale=(df.rating.min(), df.rating.max()))\n",
    "data = Dataset.load_from_df(df[['user', 'item', 'rating']], reader)"
   ]
  },
  {
   "cell_type": "markdown",
   "metadata": {},
   "source": [
    "Let's split data into 5 folds"
   ]
  },
  {
   "cell_type": "code",
   "execution_count": 7,
   "metadata": {},
   "outputs": [],
   "source": [
    "data.split(n_folds=5)"
   ]
  },
  {
   "cell_type": "markdown",
   "metadata": {},
   "source": [
    "# SVD"
   ]
  },
  {
   "cell_type": "code",
   "execution_count": 8,
   "metadata": {},
   "outputs": [],
   "source": [
    "# result = cross_validate(algo, data, measures=['RMSE'], cv=5, verbose=False)\n",
    "# result['test_rmse'] "
   ]
  },
  {
   "cell_type": "code",
   "execution_count": 14,
   "metadata": {},
   "outputs": [
    {
     "name": "stderr",
     "output_type": "stream",
     "text": [
      "C:\\Users\\ahwang\\AppData\\Local\\Continuum\\anaconda3\\lib\\site-packages\\surprise\\evaluate.py:66: UserWarning:\n",
      "\n",
      "The evaluate() method is deprecated. Please use model_selection.cross_validate() instead.\n",
      "\n",
      "C:\\Users\\ahwang\\AppData\\Local\\Continuum\\anaconda3\\lib\\site-packages\\surprise\\dataset.py:193: UserWarning:\n",
      "\n",
      "Using data.split() or using load_from_folds() without using a CV iterator is now deprecated. \n",
      "\n"
     ]
    },
    {
     "name": "stdout",
     "output_type": "stream",
     "text": [
      "Evaluating RMSE of algorithm SVD.\n",
      "\n",
      "------------\n",
      "Fold 1\n",
      "RMSE: 0.8760\n",
      "------------\n",
      "Fold 2\n",
      "RMSE: 0.8784\n",
      "------------\n",
      "Fold 3\n",
      "RMSE: 0.8672\n",
      "------------\n",
      "Fold 4\n",
      "RMSE: 0.8659\n",
      "------------\n",
      "Fold 5\n",
      "RMSE: 0.8770\n",
      "------------\n",
      "------------\n",
      "Mean RMSE: 0.8729\n",
      "------------\n",
      "------------\n"
     ]
    },
    {
     "data": {
      "text/plain": [
       "CaseInsensitiveDefaultDict(list,\n",
       "                           {'rmse': [0.8759879771735134,\n",
       "                             0.878406272272054,\n",
       "                             0.8672146012465194,\n",
       "                             0.8659068338633159,\n",
       "                             0.8770347484336569]})"
      ]
     },
     "execution_count": 14,
     "metadata": {},
     "output_type": "execute_result"
    }
   ],
   "source": [
    "algo = surprise.SVD()\n",
    "surprise.evaluate(algo, data, measures=['RMSE'])"
   ]
  },
  {
   "cell_type": "markdown",
   "metadata": {},
   "source": [
    "# SVDpp"
   ]
  },
  {
   "cell_type": "code",
   "execution_count": 42,
   "metadata": {},
   "outputs": [],
   "source": [
    "#algo = surprise.SVDpp()\n",
    "#surprise.evaluate(algo, data, measures=['RMSE'])"
   ]
  },
  {
   "cell_type": "markdown",
   "metadata": {},
   "source": [
    "# Non-negative Matrix Factorization"
   ]
  },
  {
   "cell_type": "code",
   "execution_count": 11,
   "metadata": {},
   "outputs": [
    {
     "name": "stderr",
     "output_type": "stream",
     "text": [
      "C:\\Users\\ahwang\\AppData\\Local\\Continuum\\anaconda3\\lib\\site-packages\\surprise\\evaluate.py:66: UserWarning:\n",
      "\n",
      "The evaluate() method is deprecated. Please use model_selection.cross_validate() instead.\n",
      "\n",
      "C:\\Users\\ahwang\\AppData\\Local\\Continuum\\anaconda3\\lib\\site-packages\\surprise\\dataset.py:193: UserWarning:\n",
      "\n",
      "Using data.split() or using load_from_folds() without using a CV iterator is now deprecated. \n",
      "\n"
     ]
    },
    {
     "name": "stdout",
     "output_type": "stream",
     "text": [
      "Evaluating RMSE of algorithm NMF.\n",
      "\n",
      "------------\n",
      "Fold 1\n",
      "RMSE: 0.9224\n",
      "------------\n",
      "Fold 2\n",
      "RMSE: 0.9193\n",
      "------------\n",
      "Fold 3\n",
      "RMSE: 0.9184\n",
      "------------\n",
      "Fold 4\n",
      "RMSE: 0.9166\n",
      "------------\n",
      "Fold 5\n",
      "RMSE: 0.9250\n",
      "------------\n",
      "------------\n",
      "Mean RMSE: 0.9204\n",
      "------------\n",
      "------------\n"
     ]
    },
    {
     "data": {
      "text/plain": [
       "CaseInsensitiveDefaultDict(list,\n",
       "                           {'rmse': [0.9224254904167606,\n",
       "                             0.9193270641437427,\n",
       "                             0.9183989469358387,\n",
       "                             0.9165932121998853,\n",
       "                             0.9250273783815011]})"
      ]
     },
     "execution_count": 11,
     "metadata": {},
     "output_type": "execute_result"
    }
   ],
   "source": [
    "algo = surprise.NMF()\n",
    "surprise.evaluate(algo, data, measures=['RMSE'])"
   ]
  },
  {
   "cell_type": "markdown",
   "metadata": {},
   "source": [
    "# BaselineOnly"
   ]
  },
  {
   "cell_type": "code",
   "execution_count": 15,
   "metadata": {},
   "outputs": [
    {
     "name": "stderr",
     "output_type": "stream",
     "text": [
      "C:\\Users\\ahwang\\AppData\\Local\\Continuum\\anaconda3\\lib\\site-packages\\surprise\\evaluate.py:66: UserWarning:\n",
      "\n",
      "The evaluate() method is deprecated. Please use model_selection.cross_validate() instead.\n",
      "\n",
      "C:\\Users\\ahwang\\AppData\\Local\\Continuum\\anaconda3\\lib\\site-packages\\surprise\\dataset.py:193: UserWarning:\n",
      "\n",
      "Using data.split() or using load_from_folds() without using a CV iterator is now deprecated. \n",
      "\n"
     ]
    },
    {
     "name": "stdout",
     "output_type": "stream",
     "text": [
      "Evaluating RMSE of algorithm BaselineOnly.\n",
      "\n",
      "------------\n",
      "Fold 1\n",
      "Estimating biases using als...\n",
      "RMSE: 0.8743\n",
      "------------\n",
      "Fold 2\n",
      "Estimating biases using als...\n",
      "RMSE: 0.8759\n",
      "------------\n",
      "Fold 3\n",
      "Estimating biases using als...\n",
      "RMSE: 0.8674\n",
      "------------\n",
      "Fold 4\n",
      "Estimating biases using als...\n",
      "RMSE: 0.8674\n",
      "------------\n",
      "Fold 5\n",
      "Estimating biases using als...\n",
      "RMSE: 0.8757\n",
      "------------\n",
      "------------\n",
      "Mean RMSE: 0.8721\n",
      "------------\n",
      "------------\n"
     ]
    },
    {
     "data": {
      "text/plain": [
       "CaseInsensitiveDefaultDict(list,\n",
       "                           {'rmse': [0.8742732306244616,\n",
       "                             0.8758519033828231,\n",
       "                             0.8674367781096043,\n",
       "                             0.8673539243629983,\n",
       "                             0.8756883647725023]})"
      ]
     },
     "execution_count": 15,
     "metadata": {},
     "output_type": "execute_result"
    }
   ],
   "source": [
    "algo = surprise.BaselineOnly()\n",
    "surprise.evaluate(algo, data, measures=['RMSE'])"
   ]
  },
  {
   "cell_type": "markdown",
   "metadata": {},
   "source": [
    "Surprisingly, BaselineOnly is the winner! It means we will use ALS. We will now test accuracy using training set on test set."
   ]
  },
  {
   "cell_type": "markdown",
   "metadata": {},
   "source": [
    "# BaselineOnly - ALS"
   ]
  },
  {
   "cell_type": "markdown",
   "metadata": {},
   "source": [
    "We will perform train/test (80/20) split to create model. "
   ]
  },
  {
   "cell_type": "code",
   "execution_count": 16,
   "metadata": {},
   "outputs": [],
   "source": [
    "trainset, testset = train_test_split(data, test_size=.20)"
   ]
  },
  {
   "cell_type": "markdown",
   "metadata": {},
   "source": [
    "We will configure ALS parameter for BaselineOnly"
   ]
  },
  {
   "cell_type": "code",
   "execution_count": 37,
   "metadata": {},
   "outputs": [
    {
     "name": "stdout",
     "output_type": "stream",
     "text": [
      "Estimating biases using als...\n",
      "RMSE: 0.8702\n"
     ]
    },
    {
     "data": {
      "text/plain": [
       "0.8701576448753574"
      ]
     },
     "execution_count": 37,
     "metadata": {},
     "output_type": "execute_result"
    }
   ],
   "source": [
    "bsl_options = {'method': 'als' #sgd - this case sgd has same output. Not too sure why.}\n",
    "algo = surprise.BaselineOnly(bsl_options=bsl_options)\n",
    "\n",
    "# Train the algorithm on the trainset, and predict ratings for the testset\n",
    "predictions_als = algo.fit(trainset).test(testset)\n",
    "\n",
    "# Then compute RMSE\n",
    "accuracy.rmse(predictions_cos)"
   ]
  },
  {
   "cell_type": "markdown",
   "metadata": {},
   "source": [
    "Let's create DataFrame using prediction result."
   ]
  },
  {
   "cell_type": "code",
   "execution_count": 27,
   "metadata": {},
   "outputs": [
    {
     "data": {
      "text/html": [
       "<div>\n",
       "<style scoped>\n",
       "    .dataframe tbody tr th:only-of-type {\n",
       "        vertical-align: middle;\n",
       "    }\n",
       "\n",
       "    .dataframe tbody tr th {\n",
       "        vertical-align: top;\n",
       "    }\n",
       "\n",
       "    .dataframe thead th {\n",
       "        text-align: right;\n",
       "    }\n",
       "</style>\n",
       "<table border=\"1\" class=\"dataframe\">\n",
       "  <thead>\n",
       "    <tr style=\"text-align: right;\">\n",
       "      <th></th>\n",
       "      <th>uid</th>\n",
       "      <th>iid</th>\n",
       "      <th>r_ui</th>\n",
       "      <th>est</th>\n",
       "      <th>details</th>\n",
       "    </tr>\n",
       "  </thead>\n",
       "  <tbody>\n",
       "    <tr>\n",
       "      <th>0</th>\n",
       "      <td>177</td>\n",
       "      <td>1411</td>\n",
       "      <td>5.0</td>\n",
       "      <td>3.939666</td>\n",
       "      <td>{'was_impossible': False}</td>\n",
       "    </tr>\n",
       "    <tr>\n",
       "      <th>1</th>\n",
       "      <td>226</td>\n",
       "      <td>88</td>\n",
       "      <td>3.0</td>\n",
       "      <td>3.141040</td>\n",
       "      <td>{'was_impossible': False}</td>\n",
       "    </tr>\n",
       "    <tr>\n",
       "      <th>2</th>\n",
       "      <td>465</td>\n",
       "      <td>1240</td>\n",
       "      <td>4.0</td>\n",
       "      <td>4.286400</td>\n",
       "      <td>{'was_impossible': False}</td>\n",
       "    </tr>\n",
       "    <tr>\n",
       "      <th>3</th>\n",
       "      <td>610</td>\n",
       "      <td>156726</td>\n",
       "      <td>4.5</td>\n",
       "      <td>3.345206</td>\n",
       "      <td>{'was_impossible': False}</td>\n",
       "    </tr>\n",
       "    <tr>\n",
       "      <th>4</th>\n",
       "      <td>307</td>\n",
       "      <td>5500</td>\n",
       "      <td>4.0</td>\n",
       "      <td>3.198321</td>\n",
       "      <td>{'was_impossible': False}</td>\n",
       "    </tr>\n",
       "  </tbody>\n",
       "</table>\n",
       "</div>"
      ],
      "text/plain": [
       "   uid     iid  r_ui       est                    details\n",
       "0  177    1411   5.0  3.939666  {'was_impossible': False}\n",
       "1  226      88   3.0  3.141040  {'was_impossible': False}\n",
       "2  465    1240   4.0  4.286400  {'was_impossible': False}\n",
       "3  610  156726   4.5  3.345206  {'was_impossible': False}\n",
       "4  307    5500   4.0  3.198321  {'was_impossible': False}"
      ]
     },
     "execution_count": 27,
     "metadata": {},
     "output_type": "execute_result"
    }
   ],
   "source": [
    "prediction_df = pd.DataFrame(predictions_als)\n",
    "prediction_df.head()"
   ]
  },
  {
   "cell_type": "markdown",
   "metadata": {},
   "source": [
    "Let's select worst/top 10 prediction results on testset."
   ]
  },
  {
   "cell_type": "code",
   "execution_count": 28,
   "metadata": {},
   "outputs": [],
   "source": [
    "worst_10 = abs(prediction_df['r_ui'] - prediction_df['est']).sort_values(ascending=False).head(10)\n",
    "top_10 = abs(prediction_df['r_ui'] - prediction_df['est']).sort_values(ascending=True).head(10)"
   ]
  },
  {
   "cell_type": "markdown",
   "metadata": {},
   "source": [
    "Worst 10 - it was way off."
   ]
  },
  {
   "cell_type": "code",
   "execution_count": 29,
   "metadata": {},
   "outputs": [
    {
     "data": {
      "text/html": [
       "<div>\n",
       "<style scoped>\n",
       "    .dataframe tbody tr th:only-of-type {\n",
       "        vertical-align: middle;\n",
       "    }\n",
       "\n",
       "    .dataframe tbody tr th {\n",
       "        vertical-align: top;\n",
       "    }\n",
       "\n",
       "    .dataframe thead th {\n",
       "        text-align: right;\n",
       "    }\n",
       "</style>\n",
       "<table border=\"1\" class=\"dataframe\">\n",
       "  <thead>\n",
       "    <tr style=\"text-align: right;\">\n",
       "      <th></th>\n",
       "      <th>uid</th>\n",
       "      <th>iid</th>\n",
       "      <th>r_ui</th>\n",
       "      <th>est</th>\n",
       "      <th>details</th>\n",
       "    </tr>\n",
       "  </thead>\n",
       "  <tbody>\n",
       "    <tr>\n",
       "      <th>14400</th>\n",
       "      <td>543</td>\n",
       "      <td>213</td>\n",
       "      <td>0.5</td>\n",
       "      <td>4.665999</td>\n",
       "      <td>{'was_impossible': False}</td>\n",
       "    </tr>\n",
       "    <tr>\n",
       "      <th>8592</th>\n",
       "      <td>594</td>\n",
       "      <td>7982</td>\n",
       "      <td>0.5</td>\n",
       "      <td>4.393276</td>\n",
       "      <td>{'was_impossible': False}</td>\n",
       "    </tr>\n",
       "    <tr>\n",
       "      <th>888</th>\n",
       "      <td>125</td>\n",
       "      <td>4973</td>\n",
       "      <td>0.5</td>\n",
       "      <td>4.376447</td>\n",
       "      <td>{'was_impossible': False}</td>\n",
       "    </tr>\n",
       "    <tr>\n",
       "      <th>1412</th>\n",
       "      <td>413</td>\n",
       "      <td>1198</td>\n",
       "      <td>1.0</td>\n",
       "      <td>4.757497</td>\n",
       "      <td>{'was_impossible': False}</td>\n",
       "    </tr>\n",
       "    <tr>\n",
       "      <th>17506</th>\n",
       "      <td>594</td>\n",
       "      <td>799</td>\n",
       "      <td>0.5</td>\n",
       "      <td>4.241575</td>\n",
       "      <td>{'was_impossible': False}</td>\n",
       "    </tr>\n",
       "    <tr>\n",
       "      <th>15000</th>\n",
       "      <td>594</td>\n",
       "      <td>5909</td>\n",
       "      <td>0.5</td>\n",
       "      <td>4.211212</td>\n",
       "      <td>{'was_impossible': False}</td>\n",
       "    </tr>\n",
       "    <tr>\n",
       "      <th>17018</th>\n",
       "      <td>258</td>\n",
       "      <td>122886</td>\n",
       "      <td>0.5</td>\n",
       "      <td>4.155418</td>\n",
       "      <td>{'was_impossible': False}</td>\n",
       "    </tr>\n",
       "    <tr>\n",
       "      <th>1610</th>\n",
       "      <td>495</td>\n",
       "      <td>106489</td>\n",
       "      <td>0.5</td>\n",
       "      <td>4.147496</td>\n",
       "      <td>{'was_impossible': False}</td>\n",
       "    </tr>\n",
       "    <tr>\n",
       "      <th>15240</th>\n",
       "      <td>543</td>\n",
       "      <td>59900</td>\n",
       "      <td>0.5</td>\n",
       "      <td>4.108457</td>\n",
       "      <td>{'was_impossible': False}</td>\n",
       "    </tr>\n",
       "    <tr>\n",
       "      <th>15495</th>\n",
       "      <td>594</td>\n",
       "      <td>6140</td>\n",
       "      <td>0.5</td>\n",
       "      <td>4.091105</td>\n",
       "      <td>{'was_impossible': False}</td>\n",
       "    </tr>\n",
       "  </tbody>\n",
       "</table>\n",
       "</div>"
      ],
      "text/plain": [
       "       uid     iid  r_ui       est                    details\n",
       "14400  543     213   0.5  4.665999  {'was_impossible': False}\n",
       "8592   594    7982   0.5  4.393276  {'was_impossible': False}\n",
       "888    125    4973   0.5  4.376447  {'was_impossible': False}\n",
       "1412   413    1198   1.0  4.757497  {'was_impossible': False}\n",
       "17506  594     799   0.5  4.241575  {'was_impossible': False}\n",
       "15000  594    5909   0.5  4.211212  {'was_impossible': False}\n",
       "17018  258  122886   0.5  4.155418  {'was_impossible': False}\n",
       "1610   495  106489   0.5  4.147496  {'was_impossible': False}\n",
       "15240  543   59900   0.5  4.108457  {'was_impossible': False}\n",
       "15495  594    6140   0.5  4.091105  {'was_impossible': False}"
      ]
     },
     "execution_count": 29,
     "metadata": {},
     "output_type": "execute_result"
    }
   ],
   "source": [
    "prediction_df.iloc[worst_10.index]"
   ]
  },
  {
   "cell_type": "markdown",
   "metadata": {},
   "source": [
    "Best 10 - it predicted perfectly."
   ]
  },
  {
   "cell_type": "code",
   "execution_count": 30,
   "metadata": {},
   "outputs": [
    {
     "data": {
      "text/html": [
       "<div>\n",
       "<style scoped>\n",
       "    .dataframe tbody tr th:only-of-type {\n",
       "        vertical-align: middle;\n",
       "    }\n",
       "\n",
       "    .dataframe tbody tr th {\n",
       "        vertical-align: top;\n",
       "    }\n",
       "\n",
       "    .dataframe thead th {\n",
       "        text-align: right;\n",
       "    }\n",
       "</style>\n",
       "<table border=\"1\" class=\"dataframe\">\n",
       "  <thead>\n",
       "    <tr style=\"text-align: right;\">\n",
       "      <th></th>\n",
       "      <th>uid</th>\n",
       "      <th>iid</th>\n",
       "      <th>r_ui</th>\n",
       "      <th>est</th>\n",
       "      <th>details</th>\n",
       "    </tr>\n",
       "  </thead>\n",
       "  <tbody>\n",
       "    <tr>\n",
       "      <th>16461</th>\n",
       "      <td>337</td>\n",
       "      <td>318</td>\n",
       "      <td>5.0</td>\n",
       "      <td>5.0</td>\n",
       "      <td>{'was_impossible': False}</td>\n",
       "    </tr>\n",
       "    <tr>\n",
       "      <th>12017</th>\n",
       "      <td>122</td>\n",
       "      <td>50</td>\n",
       "      <td>5.0</td>\n",
       "      <td>5.0</td>\n",
       "      <td>{'was_impossible': False}</td>\n",
       "    </tr>\n",
       "    <tr>\n",
       "      <th>13828</th>\n",
       "      <td>452</td>\n",
       "      <td>1197</td>\n",
       "      <td>5.0</td>\n",
       "      <td>5.0</td>\n",
       "      <td>{'was_impossible': False}</td>\n",
       "    </tr>\n",
       "    <tr>\n",
       "      <th>16753</th>\n",
       "      <td>452</td>\n",
       "      <td>356</td>\n",
       "      <td>5.0</td>\n",
       "      <td>5.0</td>\n",
       "      <td>{'was_impossible': False}</td>\n",
       "    </tr>\n",
       "    <tr>\n",
       "      <th>1288</th>\n",
       "      <td>543</td>\n",
       "      <td>2571</td>\n",
       "      <td>5.0</td>\n",
       "      <td>5.0</td>\n",
       "      <td>{'was_impossible': False}</td>\n",
       "    </tr>\n",
       "    <tr>\n",
       "      <th>18021</th>\n",
       "      <td>452</td>\n",
       "      <td>541</td>\n",
       "      <td>5.0</td>\n",
       "      <td>5.0</td>\n",
       "      <td>{'was_impossible': False}</td>\n",
       "    </tr>\n",
       "    <tr>\n",
       "      <th>12456</th>\n",
       "      <td>452</td>\n",
       "      <td>3147</td>\n",
       "      <td>5.0</td>\n",
       "      <td>5.0</td>\n",
       "      <td>{'was_impossible': False}</td>\n",
       "    </tr>\n",
       "    <tr>\n",
       "      <th>301</th>\n",
       "      <td>475</td>\n",
       "      <td>260</td>\n",
       "      <td>5.0</td>\n",
       "      <td>5.0</td>\n",
       "      <td>{'was_impossible': False}</td>\n",
       "    </tr>\n",
       "    <tr>\n",
       "      <th>15685</th>\n",
       "      <td>543</td>\n",
       "      <td>7361</td>\n",
       "      <td>5.0</td>\n",
       "      <td>5.0</td>\n",
       "      <td>{'was_impossible': False}</td>\n",
       "    </tr>\n",
       "    <tr>\n",
       "      <th>18899</th>\n",
       "      <td>452</td>\n",
       "      <td>1221</td>\n",
       "      <td>5.0</td>\n",
       "      <td>5.0</td>\n",
       "      <td>{'was_impossible': False}</td>\n",
       "    </tr>\n",
       "  </tbody>\n",
       "</table>\n",
       "</div>"
      ],
      "text/plain": [
       "       uid   iid  r_ui  est                    details\n",
       "16461  337   318   5.0  5.0  {'was_impossible': False}\n",
       "12017  122    50   5.0  5.0  {'was_impossible': False}\n",
       "13828  452  1197   5.0  5.0  {'was_impossible': False}\n",
       "16753  452   356   5.0  5.0  {'was_impossible': False}\n",
       "1288   543  2571   5.0  5.0  {'was_impossible': False}\n",
       "18021  452   541   5.0  5.0  {'was_impossible': False}\n",
       "12456  452  3147   5.0  5.0  {'was_impossible': False}\n",
       "301    475   260   5.0  5.0  {'was_impossible': False}\n",
       "15685  543  7361   5.0  5.0  {'was_impossible': False}\n",
       "18899  452  1221   5.0  5.0  {'was_impossible': False}"
      ]
     },
     "execution_count": 30,
     "metadata": {},
     "output_type": "execute_result"
    }
   ],
   "source": [
    "prediction_df.iloc[top_10.index]"
   ]
  },
  {
   "cell_type": "markdown",
   "metadata": {},
   "source": [
    "We can also use individual uid and iid to check individual prediciton result. Let's select one of the options in testset."
   ]
  },
  {
   "cell_type": "code",
   "execution_count": 31,
   "metadata": {},
   "outputs": [],
   "source": [
    "test_10 = testset[0:10]"
   ]
  },
  {
   "cell_type": "code",
   "execution_count": 32,
   "metadata": {},
   "outputs": [
    {
     "name": "stdout",
     "output_type": "stream",
     "text": [
      "user: 226        item: 88         r_ui = 3.00   est = 3.14   {'was_impossible': False}\n"
     ]
    }
   ],
   "source": [
    "# prediction using training set compare the results with testset\n",
    "uid = test_10[1][0]   # raw user id (as in the ratings file).\n",
    "iid = test_10[1][1]   # raw item id (as in the ratings file).\n",
    "\n",
    "# get a prediction for specific users and items.\n",
    "pred = algo.predict(uid, iid, r_ui=test_10[1][2], verbose=True)"
   ]
  },
  {
   "cell_type": "markdown",
   "metadata": {},
   "source": [
    "We will then recommend top 5 movies by predicted ratings for any selected user. This time, I will merge item title data set with rating data set."
   ]
  },
  {
   "cell_type": "code",
   "execution_count": 33,
   "metadata": {},
   "outputs": [],
   "source": [
    "item_names = pd.read_csv('https://raw.githubusercontent.com/wheremagichappens/an.dy/master/data612/ml-100k/movies.csv')\n",
    "item_names = item_names.iloc[:,[0,1]]\n",
    "item_names.columns = ['iid', 'title']\n",
    "prediction_df = prediction_df.merge(item_names, on = 'iid', how = 'inner')"
   ]
  },
  {
   "cell_type": "code",
   "execution_count": 34,
   "metadata": {},
   "outputs": [
    {
     "name": "stdout",
     "output_type": "stream",
     "text": [
      "top 5 movies for uid: 226 are iid: 2959 - Fight Club (1999) with predicted ratings of 4.201579916232384\n",
      "top 5 movies for uid: 226 are iid: 1196 - Star Wars: Episode V - The Empire Strikes Back (1980) with predicted ratings of 4.1738171600491665\n",
      "top 5 movies for uid: 226 are iid: 48516 - Departed, The (2006) with predicted ratings of 4.145885411293636\n",
      "top 5 movies for uid: 226 are iid: 2571 - Matrix, The (1999) with predicted ratings of 4.1291402074059596\n",
      "top 5 movies for uid: 226 are iid: 2398 - Miracle on 34th Street (1947) with predicted ratings of 4.11552459093689\n"
     ]
    }
   ],
   "source": [
    "def recommender_user(uid):\n",
    "    top_5 = prediction_df[prediction_df.uid == uid].sort_values(by = 'est', ascending = False).head(5)\n",
    "    for i in range(len(top_5)):\n",
    "        print('top 5 movies for uid: {0} are iid: {1} - {2} with predicted ratings of {3}'.format(uid, top_5.iid.values[i], top_5.title.values[i], top_5.est.values[i]))\n",
    "\n",
    "recommender_user(uid)"
   ]
  },
  {
   "cell_type": "markdown",
   "metadata": {},
   "source": [
    "# Conclusion - Evaluation"
   ]
  },
  {
   "cell_type": "markdown",
   "metadata": {},
   "source": [
    "RMSE for SVD is only little bit higher than BaselineOnly's. Thus, we cannot really say one should always prefer ALS to SVD; depending on the case, one can still use SVD if that is more suitable for his/her own purpose. "
   ]
  }
 ],
 "metadata": {
  "kernelspec": {
   "display_name": "Python 3",
   "language": "python",
   "name": "python3"
  },
  "language_info": {
   "codemirror_mode": {
    "name": "ipython",
    "version": 3
   },
   "file_extension": ".py",
   "mimetype": "text/x-python",
   "name": "python",
   "nbconvert_exporter": "python",
   "pygments_lexer": "ipython3",
   "version": "3.7.0"
  }
 },
 "nbformat": 4,
 "nbformat_minor": 2
}
