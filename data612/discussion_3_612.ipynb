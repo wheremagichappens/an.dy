{
 "cells": [
  {
   "cell_type": "markdown",
   "metadata": {},
   "source": [
    "# Research Discussion Question # 3\n",
    "\n",
    "# 2019-06-25\n",
    "\n",
    "# Sang Yoon (Andy) Hwang"
   ]
  },
  {
   "cell_type": "markdown",
   "metadata": {},
   "source": [
    "It is widely understood that machines do not have emotions or cognitive thinking system - they are like functions, you have inputs and produce output based on inputs.\n",
    "Having said that, it is possible that \"output\" of machine can be too objective with no empathy. We have to think about if it will be ever possible to embed with emtion \"empathy\" in machine.\n",
    "If it is not possible, we first have to understand that machine is different from humans, which does not have any \"subjective\" decision making skill nor \"emotions\" such as love or hate.\n",
    "Machine is neutral and pretty simple guy - it performs the tasks because you just ordered it to do so!\n",
    "\n",
    "Bottom line is, if we want to build \"human\" like machine, humans need to be better at inputting \"right\" and \"just\" operations. \n",
    "\n",
    "If you feed it \"unjust\" data, it will do unjust things."
   ]
  }
 ],
 "metadata": {
  "kernelspec": {
   "display_name": "Python 3",
   "language": "python",
   "name": "python3"
  },
  "language_info": {
   "codemirror_mode": {
    "name": "ipython",
    "version": 3
   },
   "file_extension": ".py",
   "mimetype": "text/x-python",
   "name": "python",
   "nbconvert_exporter": "python",
   "pygments_lexer": "ipython3",
   "version": "3.6.5"
  }
 },
 "nbformat": 4,
 "nbformat_minor": 2
}
